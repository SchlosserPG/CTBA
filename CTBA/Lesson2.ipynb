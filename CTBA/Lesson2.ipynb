{
 "cells": [
  {
   "cell_type": "markdown",
   "id": "3c48c6c5",
   "metadata": {},
   "source": [
    "We can use python to do math. "
   ]
  },
  {
   "cell_type": "code",
   "execution_count": 12,
   "id": "4f10c1b4",
   "metadata": {},
   "outputs": [
    {
     "data": {
      "text/plain": [
       "2"
      ]
     },
     "execution_count": 12,
     "metadata": {},
     "output_type": "execute_result"
    }
   ],
   "source": [
    "1+1"
   ]
  },
  {
   "cell_type": "code",
   "execution_count": 13,
   "id": "eed4618c",
   "metadata": {},
   "outputs": [
    {
     "data": {
      "text/plain": [
       "-4"
      ]
     },
     "execution_count": 13,
     "metadata": {},
     "output_type": "execute_result"
    }
   ],
   "source": [
    "5-9"
   ]
  },
  {
   "cell_type": "code",
   "execution_count": 14,
   "id": "d510ea0e",
   "metadata": {},
   "outputs": [
    {
     "data": {
      "text/plain": [
       "30"
      ]
     },
     "execution_count": 14,
     "metadata": {},
     "output_type": "execute_result"
    }
   ],
   "source": [
    "5*6"
   ]
  },
  {
   "cell_type": "code",
   "execution_count": 15,
   "id": "c085dfe8",
   "metadata": {},
   "outputs": [
    {
     "data": {
      "text/plain": [
       "-2.0"
      ]
     },
     "execution_count": 15,
     "metadata": {},
     "output_type": "execute_result"
    }
   ],
   "source": [
    "-4/2"
   ]
  },
  {
   "cell_type": "markdown",
   "id": "a3d12d7a",
   "metadata": {},
   "source": [
    "We can do math with decimal points"
   ]
  },
  {
   "cell_type": "code",
   "execution_count": 16,
   "id": "591edd1b",
   "metadata": {},
   "outputs": [
    {
     "data": {
      "text/plain": [
       "3.5"
      ]
     },
     "execution_count": 16,
     "metadata": {},
     "output_type": "execute_result"
    }
   ],
   "source": [
    "1.0 + 2.5"
   ]
  },
  {
   "cell_type": "markdown",
   "id": "2fd7293b",
   "metadata": {},
   "source": [
    "We can do math with exponents"
   ]
  },
  {
   "cell_type": "code",
   "execution_count": 17,
   "id": "4a24d9e1",
   "metadata": {},
   "outputs": [
    {
     "data": {
      "text/plain": [
       "8"
      ]
     },
     "execution_count": 17,
     "metadata": {},
     "output_type": "execute_result"
    }
   ],
   "source": [
    "2**3"
   ]
  },
  {
   "cell_type": "markdown",
   "id": "7d7649e9",
   "metadata": {},
   "source": [
    "We can follow order of operations"
   ]
  },
  {
   "cell_type": "code",
   "execution_count": 18,
   "id": "0354846a",
   "metadata": {},
   "outputs": [
    {
     "data": {
      "text/plain": [
       "15"
      ]
     },
     "execution_count": 18,
     "metadata": {},
     "output_type": "execute_result"
    }
   ],
   "source": [
    "(2+3)*3"
   ]
  },
  {
   "cell_type": "code",
   "execution_count": 19,
   "id": "88c5c3e2",
   "metadata": {},
   "outputs": [],
   "source": [
    "# This is a comment"
   ]
  },
  {
   "cell_type": "markdown",
   "id": "88ba295c",
   "metadata": {},
   "source": [
    "Modulo is the remainder of a division "
   ]
  },
  {
   "cell_type": "code",
   "execution_count": 20,
   "id": "92e9384f",
   "metadata": {},
   "outputs": [
    {
     "data": {
      "text/plain": [
       "1"
      ]
     },
     "execution_count": 20,
     "metadata": {},
     "output_type": "execute_result"
    }
   ],
   "source": [
    "7%3 #is 1 because 7 divided by 3 is 2 with a remainder of 1"
   ]
  },
  {
   "cell_type": "markdown",
   "id": "5a8da7f2",
   "metadata": {},
   "source": [
    "Using Variables"
   ]
  },
  {
   "cell_type": "code",
   "execution_count": 21,
   "id": "f52c3355",
   "metadata": {},
   "outputs": [
    {
     "name": "stdout",
     "output_type": "stream",
     "text": [
      "7\n",
      "data\n",
      "10\n",
      "15\n"
     ]
    }
   ],
   "source": [
    "x=7\n",
    "y=\"data\"\n",
    "\n",
    "print(x) #printing the variable x\n",
    "print(y) #printing the variable y\n",
    "\n",
    "##when naming variables, do not use spaces or special characters\n",
    "##If you want to use a space, use an underscore instead\n",
    "##It is better to use lower case letters for variable names\n",
    "my_variable = 10\n",
    "print(my_variable) ##printing the variable before adding 5\n",
    "my_variable += 5\n",
    "print(my_variable) ##printing the variable after adding 5"
   ]
  },
  {
   "cell_type": "markdown",
   "id": "d30ae494",
   "metadata": {},
   "source": [
    "Using Strings"
   ]
  },
  {
   "cell_type": "markdown",
   "id": "5d821356",
   "metadata": {},
   "source": [
    "We have to watch quotes to make sure they match"
   ]
  },
  {
   "cell_type": "code",
   "execution_count": 22,
   "id": "b9aec6a5",
   "metadata": {},
   "outputs": [
    {
     "name": "stdout",
     "output_type": "stream",
     "text": [
      "What are you studying?\n",
      "Analytics!\n",
      "What are you studying? Analytics!\n",
      "What are you studying?\n",
      "Analytics!\n"
     ]
    }
   ],
   "source": [
    "\"Im into Data Science\"\n",
    "question = \"What are you studying?\"\n",
    "answer = \"Analytics!\"\n",
    "\n",
    "print(question)\n",
    "print(answer)\n",
    "\n",
    "print(question + \" \" + answer) # Concatenating strings with a space in between\n",
    "\n",
    "print(question + \"\\n\" +answer) # Concatenating strings with a newline in between\n",
    "\n",
    "\n"
   ]
  },
  {
   "cell_type": "code",
   "execution_count": 23,
   "id": "027f7c11",
   "metadata": {},
   "outputs": [
    {
     "data": {
      "text/plain": [
       "str"
      ]
     },
     "execution_count": 23,
     "metadata": {},
     "output_type": "execute_result"
    }
   ],
   "source": [
    "type(answer) # This will show the type of the variable 'answer'"
   ]
  },
  {
   "cell_type": "code",
   "execution_count": 24,
   "id": "85e5fe21",
   "metadata": {},
   "outputs": [
    {
     "data": {
      "text/plain": [
       "10"
      ]
     },
     "execution_count": 24,
     "metadata": {},
     "output_type": "execute_result"
    }
   ],
   "source": [
    "len(answer) # This will show the length of the string in 'answer'"
   ]
  },
  {
   "cell_type": "markdown",
   "id": "ab24f3f8",
   "metadata": {},
   "source": [
    "Indexing Strings\n"
   ]
  },
  {
   "cell_type": "code",
   "execution_count": 25,
   "id": "0d277610",
   "metadata": {},
   "outputs": [
    {
     "data": {
      "text/plain": [
       "'A'"
      ]
     },
     "execution_count": 25,
     "metadata": {},
     "output_type": "execute_result"
    }
   ],
   "source": [
    "answer[0] # This will show the first character of the string in 'answer'"
   ]
  },
  {
   "cell_type": "code",
   "execution_count": 26,
   "id": "5ec693c5",
   "metadata": {},
   "outputs": [
    {
     "data": {
      "text/plain": [
       "'a'"
      ]
     },
     "execution_count": 26,
     "metadata": {},
     "output_type": "execute_result"
    }
   ],
   "source": [
    "answer[2] # This will show the third character of the string in 'answer'"
   ]
  },
  {
   "cell_type": "code",
   "execution_count": 27,
   "id": "1bc9e716",
   "metadata": {},
   "outputs": [
    {
     "data": {
      "text/plain": [
       "'!'"
      ]
     },
     "execution_count": 27,
     "metadata": {},
     "output_type": "execute_result"
    }
   ],
   "source": [
    "answer[9] # This will show the tenth character of the string in 'answer'\n"
   ]
  },
  {
   "cell_type": "code",
   "execution_count": 28,
   "id": "42365d4b",
   "metadata": {},
   "outputs": [
    {
     "data": {
      "text/plain": [
       "'!'"
      ]
     },
     "execution_count": 28,
     "metadata": {},
     "output_type": "execute_result"
    }
   ],
   "source": [
    "answer[-1] # This will show the last character of the string in 'answer'"
   ]
  },
  {
   "cell_type": "code",
   "execution_count": 29,
   "id": "d1b2e689",
   "metadata": {},
   "outputs": [
    {
     "name": "stdout",
     "output_type": "stream",
     "text": [
      "CT\n"
     ]
    }
   ],
   "source": [
    "course = \"CTBA\"\n",
    "len(course) # This will show the length of the string in 'course'\n",
    "print(course[0:2]) # This will show the first 3 characters of the string in 'course'\n",
    "\n",
    "   \n"
   ]
  },
  {
   "cell_type": "markdown",
   "id": "01d9d5d2",
   "metadata": {},
   "source": [
    "Methods and Functions"
   ]
  },
  {
   "cell_type": "code",
   "execution_count": 30,
   "id": "eaf4a145",
   "metadata": {},
   "outputs": [
    {
     "data": {
      "text/plain": [
       "'ANALYTICS!'"
      ]
     },
     "execution_count": 30,
     "metadata": {},
     "output_type": "execute_result"
    }
   ],
   "source": [
    "answer.upper() # This will convert the string in 'answer' to uppercase\n"
   ]
  },
  {
   "cell_type": "code",
   "execution_count": 31,
   "id": "971321b5",
   "metadata": {},
   "outputs": [
    {
     "name": "stdout",
     "output_type": "stream",
     "text": [
      "ANALYTICS!\n"
     ]
    }
   ],
   "source": [
    "answer_cap = answer.upper()\n",
    "print(answer_cap) # This will print the uppercase version of 'answer'\n"
   ]
  },
  {
   "cell_type": "code",
   "execution_count": 32,
   "id": "96d52d95",
   "metadata": {},
   "outputs": [
    {
     "data": {
      "text/plain": [
       "'analytics!'"
      ]
     },
     "execution_count": 32,
     "metadata": {},
     "output_type": "execute_result"
    }
   ],
   "source": [
    "answer.lower() # This will convert the string in 'answer' to lowercase  "
   ]
  },
  {
   "cell_type": "code",
   "execution_count": 33,
   "id": "9d6eb698",
   "metadata": {},
   "outputs": [
    {
     "data": {
      "text/plain": [
       "5"
      ]
     },
     "execution_count": 33,
     "metadata": {},
     "output_type": "execute_result"
    }
   ],
   "source": [
    "answer.find(\"t\")"
   ]
  },
  {
   "cell_type": "markdown",
   "id": "bc6c2e82",
   "metadata": {},
   "source": [
    "f-strings are a way to format strings"
   ]
  },
  {
   "cell_type": "code",
   "execution_count": 34,
   "id": "f074b8c0",
   "metadata": {},
   "outputs": [
    {
     "name": "stdout",
     "output_type": "stream",
     "text": [
      "Hello, I am Pamela Schlosser. I have been teaching at WM since 2020.\n",
      "Hello, I am Pamela Schlosser. I have been teaching at WM since 2020.\n"
     ]
    }
   ],
   "source": [
    "name = \"Pamela Schlosser\"\n",
    "print(\"Hello, I am \" + name + \". I have been teaching at WM since 2020.\")    \n",
    "print(f\"Hello, I am {name}. I have been teaching at WM since 2020.\") # Using f-string for formatting\n"
   ]
  },
  {
   "cell_type": "markdown",
   "id": "b6a5646e",
   "metadata": {},
   "source": [
    "List Tuples Sets Dictionaries"
   ]
  },
  {
   "cell_type": "code",
   "execution_count": 35,
   "id": "e27b5ae3",
   "metadata": {},
   "outputs": [
    {
     "name": "stdout",
     "output_type": "stream",
     "text": [
      "[1, 2, 3, 4, 5, 'a', 'hello', 'c', 2, 3.6]\n"
     ]
    }
   ],
   "source": [
    "l1 = [1,2,3,4,5]\n",
    "l2 = [\"a\", \"hello\", \"c\", 2, 3.6]\n",
    "print(l1 + l2) # This will concatenate the two lists\n"
   ]
  },
  {
   "cell_type": "code",
   "execution_count": 36,
   "id": "1f5cdcd1",
   "metadata": {},
   "outputs": [
    {
     "name": "stdout",
     "output_type": "stream",
     "text": [
      "[1, 2, 3, 4, 5, 6]\n",
      "[1, 2, 3, 4, 5]\n"
     ]
    }
   ],
   "source": [
    "l1.append(6) # This will add 6 to the end of the list l1\n",
    "print(l1) # This will print the updated list l1\n",
    "\n",
    "l1.pop() # This will remove the last element from the list l1\n",
    "print(l1) # This will print the updated list l1 after popping the last element"
   ]
  },
  {
   "cell_type": "markdown",
   "id": "744fc789",
   "metadata": {},
   "source": []
  },
  {
   "cell_type": "code",
   "execution_count": 37,
   "id": "d687bcd7",
   "metadata": {},
   "outputs": [],
   "source": [
    "l1.sort() # This will sort the list l1 in ascending order\n"
   ]
  },
  {
   "cell_type": "markdown",
   "id": "6e35dd5b",
   "metadata": {},
   "source": [
    "Tuples\n",
    "Tuples are immutable lists"
   ]
  },
  {
   "cell_type": "code",
   "execution_count": 38,
   "id": "a55cad1c",
   "metadata": {},
   "outputs": [
    {
     "name": "stdout",
     "output_type": "stream",
     "text": [
      "(1, 2, 3, 4, 5)\n"
     ]
    }
   ],
   "source": [
    "t1 = (1, 2, 3, 4, 5) # This is a tuple\n",
    "print(t1) # This will print the tuple t1\n",
    "\n",
    "#t1[0] = 11 # This will raise an error because tuples are immutable"
   ]
  },
  {
   "cell_type": "markdown",
   "id": "f29cf0a7",
   "metadata": {},
   "source": [
    "Dictionaries"
   ]
  },
  {
   "cell_type": "code",
   "execution_count": 39,
   "id": "71a2f6be",
   "metadata": {},
   "outputs": [],
   "source": [
    "d1 = {\"name\": \"Schlosser\", \"age\": 23, \"city\": \"Williamsburg\"} # This is a dictionary"
   ]
  },
  {
   "cell_type": "code",
   "execution_count": 40,
   "id": "9c9aa1d7",
   "metadata": {},
   "outputs": [
    {
     "name": "stdout",
     "output_type": "stream",
     "text": [
      "Schlosser\n",
      "{'name': 'Schlosser', 'age': 24, 'city': 'Williamsburg', 'email': 'pgschlosser@wm.edu'}\n",
      "name : Schlosser\n",
      "age : 24\n",
      "city : Williamsburg\n",
      "email : pgschlosser@wm.edu\n"
     ]
    }
   ],
   "source": [
    "print(d1[\"name\"])     # Output: Schlosser\n",
    "d1[\"age\"] = 24         # Updating the age\n",
    "d1[\"email\"] = \"pgschlosser@wm.edu\"  # Adding a new key-value pair\n",
    "print(d1)  # Output: {'name': 'Schlosser', 'age': 24, 'city': 'Williamsburg', 'email': '\n",
    "\n",
    "#Print in a better format using .items method\n",
    "for key, value in d1.items():\n",
    "    print(key, \":\", value)"
   ]
  },
  {
   "cell_type": "markdown",
   "id": "c76414a1",
   "metadata": {},
   "source": [
    "Dictionary of Dictionaries"
   ]
  },
  {
   "cell_type": "code",
   "execution_count": 41,
   "id": "5dee6779",
   "metadata": {},
   "outputs": [
    {
     "name": "stdout",
     "output_type": "stream",
     "text": [
      "{'person1': {'name': 'Schlosser', 'age': 23, 'city': 'Williamsburg'}, 'person2': {'name': 'Smith', 'age': 30, 'city': 'Newport News'}}\n"
     ]
    }
   ],
   "source": [
    "people = {\n",
    "    \"person1\": {\"name\": \"Schlosser\", \"age\": 23, \"city\": \"Williamsburg\"},\n",
    "    \"person2\": {\"name\": \"Smith\", \"age\": 30, \"city\": \"Newport News\"}\n",
    "}\n",
    "\n",
    "print(people)"
   ]
  },
  {
   "cell_type": "code",
   "execution_count": 42,
   "id": "1eb6fcdb",
   "metadata": {},
   "outputs": [],
   "source": [
    "distances = {\n",
    "    \"A\": {\"B\": 10, \"C\": 15},\n",
    "    \"B\": {\"A\": 10, \"C\": 20},\n",
    "    \"C\": {\"A\": 15, \"B\": 20}\n",
    "}"
   ]
  },
  {
   "cell_type": "markdown",
   "id": "73007b7c",
   "metadata": {},
   "source": [
    "If Statements Loops"
   ]
  },
  {
   "cell_type": "code",
   "execution_count": 43,
   "id": "b862a786",
   "metadata": {},
   "outputs": [
    {
     "name": "stdout",
     "output_type": "stream",
     "text": [
      "x is greater than 5\n"
     ]
    }
   ],
   "source": [
    "x = 10\n",
    "\n",
    "if x > 5:\n",
    "    print(\"x is greater than 5\")"
   ]
  },
  {
   "cell_type": "markdown",
   "id": "23255a04",
   "metadata": {},
   "source": [
    " If–Else Statements"
   ]
  },
  {
   "cell_type": "code",
   "execution_count": 44,
   "id": "f5c405ef",
   "metadata": {},
   "outputs": [
    {
     "name": "stdout",
     "output_type": "stream",
     "text": [
      "x is even\n"
     ]
    }
   ],
   "source": [
    "x = 4\n",
    "\n",
    "if x % 2 == 0:\n",
    "    print(\"x is even\")\n",
    "else:\n",
    "    print(\"x is odd\")"
   ]
  },
  {
   "cell_type": "markdown",
   "id": "2a593a0b",
   "metadata": {},
   "source": [
    "If–Elif–Else Chains"
   ]
  },
  {
   "cell_type": "code",
   "execution_count": 45,
   "id": "68fc623e",
   "metadata": {},
   "outputs": [
    {
     "name": "stdout",
     "output_type": "stream",
     "text": [
      "Zero\n"
     ]
    }
   ],
   "source": [
    "x = 0\n",
    "\n",
    "if x > 0:\n",
    "    print(\"Positive\")\n",
    "elif x == 0:\n",
    "    print(\"Zero\")\n",
    "else:\n",
    "    print(\"Negative\")"
   ]
  },
  {
   "cell_type": "markdown",
   "id": "af3630f3",
   "metadata": {},
   "source": [
    "For Loops"
   ]
  },
  {
   "cell_type": "code",
   "execution_count": 46,
   "id": "84a6ef07",
   "metadata": {},
   "outputs": [
    {
     "name": "stdout",
     "output_type": "stream",
     "text": [
      "i is 0\n",
      "i is 1\n",
      "i is 2\n",
      "i is 3\n",
      "i is 4\n"
     ]
    }
   ],
   "source": [
    "for i in range(5):\n",
    "    print(\"i is\", i)"
   ]
  },
  {
   "cell_type": "markdown",
   "id": "6685b942",
   "metadata": {},
   "source": [
    "While Loop with If Statement"
   ]
  },
  {
   "cell_type": "code",
   "execution_count": 47,
   "id": "60469c7c",
   "metadata": {},
   "outputs": [
    {
     "name": "stdout",
     "output_type": "stream",
     "text": [
      "0 is even\n",
      "1 is odd\n",
      "2 is even\n",
      "3 is odd\n",
      "4 is even\n"
     ]
    }
   ],
   "source": [
    "x = 0\n",
    "\n",
    "while x < 5:\n",
    "    if x % 2 == 0:\n",
    "        print(x, \"is even\")\n",
    "    else:\n",
    "        print(x, \"is odd\")\n",
    "    x += 1"
   ]
  },
  {
   "cell_type": "markdown",
   "id": "5a2e7ad0",
   "metadata": {},
   "source": [
    "Functions\n"
   ]
  },
  {
   "cell_type": "code",
   "execution_count": 48,
   "id": "160b8d1c",
   "metadata": {},
   "outputs": [],
   "source": [
    "def my_first_function():\n",
    "    \"\"\"     \n",
    "    This is where we put the docstring\n",
    "    including input parameters, and output\n",
    "    \"\"\"\n",
    "\n",
    "    print(\"This is my first function\")\n",
    "    "
   ]
  },
  {
   "cell_type": "code",
   "execution_count": 49,
   "id": "4e60ac1d",
   "metadata": {},
   "outputs": [
    {
     "name": "stdout",
     "output_type": "stream",
     "text": [
      "3\n",
      "3\n"
     ]
    }
   ],
   "source": [
    "def sum_up(a, b):\n",
    "     print(a+b)\n",
    "     \n",
    "sum_up(1,2)\n",
    "\n",
    "sum_up(a=1, b=2)"
   ]
  },
  {
   "cell_type": "markdown",
   "id": "e1f9674b",
   "metadata": {},
   "source": [
    "Can set default values for parameters"
   ]
  },
  {
   "cell_type": "code",
   "execution_count": 50,
   "id": "22bc792b",
   "metadata": {},
   "outputs": [
    {
     "name": "stdout",
     "output_type": "stream",
     "text": [
      "2\n"
     ]
    }
   ],
   "source": [
    "def sum_up(a=1, b=1):\n",
    "     print(a+b)\n",
    "\n",
    "sum_up()  # This will use the default values of a and b"
   ]
  },
  {
   "cell_type": "markdown",
   "id": "5fc45977",
   "metadata": {},
   "source": [
    "Return Statement"
   ]
  },
  {
   "cell_type": "code",
   "execution_count": 51,
   "id": "8dd227b6",
   "metadata": {},
   "outputs": [
    {
     "name": "stdout",
     "output_type": "stream",
     "text": [
      "2\n"
     ]
    }
   ],
   "source": [
    "def sum_up(a=1, b=1):\n",
    "     return(a+b)\n",
    "\n",
    "result= sum_up() # This will use the default values of a and b and assign the result to a new variable 'result'\n",
    "print(result)  # This will print the result of the sum_up function"
   ]
  },
  {
   "cell_type": "markdown",
   "id": "d20fe7b5",
   "metadata": {},
   "source": [
    "Function with If Else Statement"
   ]
  },
  {
   "cell_type": "code",
   "execution_count": 52,
   "id": "dab9e2b4",
   "metadata": {},
   "outputs": [
    {
     "data": {
      "text/plain": [
       "5"
      ]
     },
     "execution_count": 52,
     "metadata": {},
     "output_type": "execute_result"
    }
   ],
   "source": [
    "def abs_value(k):\n",
    "    \"\"\"Returns the absolute value of a number.\"\"\"\n",
    "    if k < 0:\n",
    "        return -k\n",
    "    else:\n",
    "        return k\n",
    "    \n",
    "abs(-5)  # This will return 5\n"
   ]
  },
  {
   "cell_type": "code",
   "execution_count": 53,
   "id": "a5e4f7ef",
   "metadata": {},
   "outputs": [
    {
     "data": {
      "text/plain": [
       "5"
      ]
     },
     "execution_count": 53,
     "metadata": {},
     "output_type": "execute_result"
    }
   ],
   "source": [
    "abs(5)  # This will return 5"
   ]
  },
  {
   "cell_type": "code",
   "execution_count": null,
   "id": "f67ef5ba",
   "metadata": {},
   "outputs": [],
   "source": [
    "import numpy as np\n",
    "\n",
    "list1 = [1,2,3,4,5]\n",
    "print(list1)\n"
   ]
  },
  {
   "cell_type": "code",
   "execution_count": null,
   "id": "7b1eb601",
   "metadata": {},
   "outputs": [],
   "source": [
    "arr1 = np.array([1,2,3,4,5])\n",
    "print(arr1)\n",
    "list2 = [(1,2,3),(4,5,6)]\n",
    "print(list2)\n",
    "arr2 = np.array([(1,2,3),(4,5,6)])\n",
    "print(arr2)\n"
   ]
  },
  {
   "cell_type": "code",
   "execution_count": null,
   "id": "d45e13b9",
   "metadata": {},
   "outputs": [],
   "source": [
    "list = [1,2,3]\n",
    "arr1 = np.array([1,2,3])\n",
    "for e in list:\n",
    "    print(e)\n",
    "for e in arr1:\n",
    "    print(e)\n"
   ]
  },
  {
   "cell_type": "code",
   "execution_count": null,
   "id": "dfa54cde",
   "metadata": {},
   "outputs": [],
   "source": [
    "arr1 = np.array([1,2,3])\n",
    "# these do not work:\n",
    "#arr1.append(4)\n",
    "#arr1 = arr1 + [5]\n",
    "arr1 = np.append(arr1,4)\n",
    "arr1 = np.append(arr1,[5])"
   ]
  },
  {
   "cell_type": "code",
   "execution_count": null,
   "id": "fc6d2849",
   "metadata": {},
   "outputs": [],
   "source": [
    "for e in arr1:\n",
    "    print(e)\n",
    "arr2 = arr1 + arr1\n",
    "\n"
   ]
  },
  {
   "cell_type": "code",
   "execution_count": null,
   "id": "26bc4c41",
   "metadata": {},
   "outputs": [],
   "source": [
    "for e in arr2:\n",
    "    print(e)"
   ]
  }
 ],
 "metadata": {
  "kernelspec": {
   "display_name": "CTBA",
   "language": "python",
   "name": "python3"
  },
  "language_info": {
   "codemirror_mode": {
    "name": "ipython",
    "version": 3
   },
   "file_extension": ".py",
   "mimetype": "text/x-python",
   "name": "python",
   "nbconvert_exporter": "python",
   "pygments_lexer": "ipython3",
   "version": "3.12.4"
  }
 },
 "nbformat": 4,
 "nbformat_minor": 5
}
